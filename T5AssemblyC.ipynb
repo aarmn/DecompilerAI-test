{
 "cells": [
  {
   "cell_type": "code",
   "execution_count": 1,
   "id": "3175ca9b",
   "metadata": {},
   "outputs": [
    {
     "name": "stderr",
     "output_type": "stream",
     "text": [
      "2023-11-13 16:08:30.428295: I tensorflow/core/util/port.cc:111] oneDNN custom operations are on. You may see slightly different numerical results due to floating-point round-off errors from different computation orders. To turn them off, set the environment variable `TF_ENABLE_ONEDNN_OPTS=0`.\n",
      "2023-11-13 16:08:30.467504: E tensorflow/compiler/xla/stream_executor/cuda/cuda_dnn.cc:9342] Unable to register cuDNN factory: Attempting to register factory for plugin cuDNN when one has already been registered\n",
      "2023-11-13 16:08:30.467529: E tensorflow/compiler/xla/stream_executor/cuda/cuda_fft.cc:609] Unable to register cuFFT factory: Attempting to register factory for plugin cuFFT when one has already been registered\n",
      "2023-11-13 16:08:30.467553: E tensorflow/compiler/xla/stream_executor/cuda/cuda_blas.cc:1518] Unable to register cuBLAS factory: Attempting to register factory for plugin cuBLAS when one has already been registered\n",
      "2023-11-13 16:08:30.476035: I tensorflow/core/platform/cpu_feature_guard.cc:182] This TensorFlow binary is optimized to use available CPU instructions in performance-critical operations.\n",
      "To enable the following instructions: AVX2 AVX512F AVX512_VNNI FMA, in other operations, rebuild TensorFlow with the appropriate compiler flags.\n",
      "2023-11-13 16:08:31.633438: W tensorflow/compiler/tf2tensorrt/utils/py_utils.cc:38] TF-TRT Warning: Could not find TensorRT\n"
     ]
    }
   ],
   "source": [
    "import warnings\n",
    "from transformers import T5Tokenizer, T5ForConditionalGeneration, AdamW\n",
    "from torch.utils.data import DataLoader, TensorDataset\n",
    "import torch\n",
    "from tqdm import tqdm\n",
    "import gc\n",
    "\n",
    "\n",
    "# Suppressing unnecessary warnings\n",
    "warnings.filterwarnings(\"ignore\")"
   ]
  },
  {
   "cell_type": "code",
   "execution_count": null,
   "id": "44c0208c-f5dc-4406-b852-2d82db181752",
   "metadata": {},
   "outputs": [
    {
     "name": "stderr",
     "output_type": "stream",
     "text": [
      "You are using the default legacy behaviour of the <class 'transformers.models.t5.tokenization_t5.T5Tokenizer'>. This is expected, and simply means that the `legacy` (previous) behavior will be used so nothing changes for you. If you want to use the new behaviour, set `legacy=False`. This should only be set if you understand what it means, and thouroughly read the reason why this was added as explained in https://github.com/huggingface/transformers/pull/24565\n",
      "Special tokens have been added in the vocabulary, make sure the associated word embeddings are fine-tuned or trained.\n"
     ]
    },
    {
     "name": "stdout",
     "output_type": "stream",
     "text": [
      "cuda:0\n",
      "cuda:0\n"
     ]
    },
    {
     "name": "stderr",
     "output_type": "stream",
     "text": [
      "Epoch 1: 100%|██████████| 2258/2258 [14:54<00:00,  2.53it/s]\n"
     ]
    },
    {
     "name": "stdout",
     "output_type": "stream",
     "text": [
      "Epoch 1, Average Loss: 2.6865308898755993\n"
     ]
    },
    {
     "name": "stderr",
     "output_type": "stream",
     "text": [
      "Epoch 2: 100%|██████████| 2258/2258 [14:55<00:00,  2.52it/s]\n"
     ]
    },
    {
     "name": "stdout",
     "output_type": "stream",
     "text": [
      "Epoch 2, Average Loss: 2.0189411313371175\n"
     ]
    },
    {
     "name": "stderr",
     "output_type": "stream",
     "text": [
      "Epoch 3:   7%|▋         | 169/2258 [01:06<13:46,  2.53it/s]"
     ]
    }
   ],
   "source": [
    "\n",
    "# Check if a GPU is available, and if so, use it\n",
    "device = torch.device(\"cuda\" if torch.cuda.is_available() else \"cpu\")\n",
    "\n",
    "#torch.cuda.empty_cache()\n",
    "#gc.collect()    \n",
    "\n",
    "#tokenizer = T5Tokenizer.from_pretrained(\"./T5Snapshot/tokenizer_\")\n",
    "#model = T5ForConditionalGeneration.from_pretrained(\"./T5Snapshot/model\").to(device)\n",
    "\n",
    "tokenizer = T5Tokenizer.from_pretrained(\"t5-small\") # When training from scratch\n",
    "model = T5ForConditionalGeneration.from_pretrained(\"t5-small\").to(device)  # Move model to the GPU\n",
    "\n",
    "# the following 2 hyperparameters are task-specific\n",
    "max_source_length = 512  # Set to a value that covers most assembly code sequences\n",
    "max_target_length = 512  # Set to a value that covers most C code sequences\n",
    "\n",
    "\n",
    "#max_split_size_mb = 1024  # Adjust this value to a lower value if needed\n",
    "#tokenizer.max_split_size_mb = max_split_size_mb\n",
    "\n",
    "# Read input sequences from assembly.txt\n",
    "with open(\"assembly.txt\", \"r\", encoding=\"utf-8\") as assembly_file:\n",
    "    assembly_lines = assembly_file.readlines()\n",
    "\n",
    "# Read output sequences from functions.txt\n",
    "with open(\"function.txt\", \"r\", encoding=\"utf-8\") as functions_file:\n",
    "    functions_lines = functions_file.readlines()\n",
    "\n",
    "# Ensure that the number of lines in assembly.txt and functions.txt are the same\n",
    "assert len(assembly_lines) == len(functions_lines), \"Number of lines in assembly.txt and functions.txt must be the same.\"\n",
    "\n",
    "# Encode inputs and targets\n",
    "input_sequences = [assembly_line for assembly_line in assembly_lines]\n",
    "output_sequences = [function_line for function_line in functions_lines]\n",
    "\n",
    "encoding = tokenizer(\n",
    "    input_sequences,\n",
    "    padding=\"longest\",\n",
    "    max_length=max_source_length,\n",
    "    truncation=True,\n",
    "    return_tensors=\"pt\",\n",
    ")\n",
    "\n",
    "input_ids, attention_mask = encoding.input_ids.to(device), encoding.attention_mask.to(device)\n",
    "\n",
    "print(model.device)  # Print the device the model is on\n",
    "print(input_ids.device)  # Print the device of input_ids\n",
    "\n",
    "target_encoding = tokenizer(\n",
    "    output_sequences,\n",
    "    padding=\"longest\",\n",
    "    max_length=max_target_length,\n",
    "    truncation=True,\n",
    "    return_tensors=\"pt\",\n",
    ")\n",
    "labels = target_encoding.input_ids.to(device)\n",
    "\n",
    "# Replace padding token id's of the labels by -100 so it's ignored by the loss\n",
    "labels[labels == tokenizer.pad_token_id] = -100\n",
    "\n",
    "# Set hyperparameters\n",
    "learning_rate = 5e-5\n",
    "batch_size = 16 #thumb of rule\n",
    "num_epochs = 20\n",
    "num_warmup_steps = 0.1 * num_epochs * len(input_sequences) / batch_size\n",
    "\n",
    "# Define optimizer with GPU device\n",
    "optimizer = AdamW(model.parameters(), lr=learning_rate)\n",
    "\n",
    "# Create DataLoader for training data\n",
    "train_dataset = TensorDataset(input_ids, attention_mask, labels)\n",
    "train_dataloader = DataLoader(train_dataset, batch_size=batch_size, shuffle=True)\n",
    "\n",
    "# Training loop on the GPU\n",
    "for epoch in range(num_epochs):\n",
    "    model.train()\n",
    "    total_loss = 0.0\n",
    "\n",
    "    for batch in tqdm(train_dataloader, desc=f\"Epoch {epoch + 1}\"):\n",
    "        input_ids_batch, attention_mask_batch, labels_batch = batch\n",
    "\n",
    "        # Forward pass\n",
    "        loss = model(\n",
    "            input_ids=input_ids_batch,\n",
    "            attention_mask=attention_mask_batch,\n",
    "            labels=labels_batch\n",
    "        ).loss\n",
    "\n",
    "        # Backward pass\n",
    "        optimizer.zero_grad()\n",
    "        loss.backward()\n",
    "        optimizer.step()\n",
    "\n",
    "        total_loss += loss.item()\n",
    "\n",
    "    avg_loss = total_loss / len(train_dataloader)\n",
    "    print(f\"Epoch {epoch + 1}, Average Loss: {avg_loss}\")\n",
    "    model.save_pretrained(f\"./T5Snapshot/model_epoch{epoch + 1}_loss{avg_loss:.2f}\")\n",
    "    tokenizer.save_pretrained(f\"./T5Snapshot/tokenizer_epoch{epoch + 1}_loss{avg_loss:.2f}\")\n",
    "\n",
    "# Save the trained model\n",
    "model.save_pretrained(\"./T5Snapshot/model\")\n",
    "tokenizer.save_pretrained(\"./T5Snapshot/tokenizer\")"
   ]
  },
  {
   "cell_type": "markdown",
   "id": "d8d1db3c",
   "metadata": {},
   "source": [
    "**Inference**"
   ]
  },
  {
   "cell_type": "code",
   "execution_count": null,
   "id": "5b37a811",
   "metadata": {},
   "outputs": [],
   "source": [
    "\n",
    "device = torch.device(\"cuda\" if torch.cuda.is_available() else \"cpu\")\n",
    "tokenizer = T5Tokenizer.from_pretrained(\"./T5Snapshot/tokenizer_epoch1_loss1.51\",local_files_only=True)\n",
    "model = T5ForConditionalGeneration.from_pretrained(\"./T5Snapshot/model_epoch1_loss1.51\",local_files_only=True).to(device)\n",
    "\n",
    "input_sequence = 'endbr64 ;push   rbp;mov    rbp,rsp;mov    DWORD PTR [rbp-(1)],edi;mov    DWORD PTR [rbp-(0)],esi;mov    edx,DWORD PTR [rbp-(1)];mov    eax,DWORD PTR [rbp-(0)];add    eax,edx;pop    rbp;ret'\n",
    "input_ids = tokenizer(input_sequence, return_tensors=\"pt\").input_ids.to(device)\n",
    "outputs = model.generate(input_ids,max_length=300, num_return_sequences=1)\n",
    "print(tokenizer.decode(outputs[0], skip_special_tokens=True))"
   ]
  },
  {
   "cell_type": "code",
   "execution_count": null,
   "id": "cad19f33",
   "metadata": {},
   "outputs": [],
   "source": []
  }
 ],
 "metadata": {
  "kernelspec": {
   "display_name": "testenv",
   "language": "python",
   "name": "testenv"
  },
  "language_info": {
   "codemirror_mode": {
    "name": "ipython",
    "version": 3
   },
   "file_extension": ".py",
   "mimetype": "text/x-python",
   "name": "python",
   "nbconvert_exporter": "python",
   "pygments_lexer": "ipython3",
   "version": "3.9.18"
  },
  "toc": {
   "base_numbering": 1,
   "nav_menu": {},
   "number_sections": false,
   "sideBar": true,
   "skip_h1_title": false,
   "title_cell": "Table of Contents",
   "title_sidebar": "Contents",
   "toc_cell": false,
   "toc_position": {},
   "toc_section_display": true,
   "toc_window_display": false
  }
 },
 "nbformat": 4,
 "nbformat_minor": 5
}
